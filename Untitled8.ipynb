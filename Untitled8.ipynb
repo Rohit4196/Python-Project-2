{
 "cells": [
  {
   "cell_type": "code",
   "execution_count": null,
   "id": "233a6af8-08b8-4bb1-99d5-11d81af6134c",
   "metadata": {},
   "outputs": [
    {
     "name": "stdin",
     "output_type": "stream",
     "text": [
      "Enter the alarm time (HH:MM) or 'exit' to quit:  08:00\n"
     ]
    },
    {
     "name": "stdout",
     "output_type": "stream",
     "text": [
      "Alarm set for 08:00\n",
      "Time remaining: 9:48:20\r"
     ]
    }
   ],
   "source": [
    "import datetime\n",
    "import time\n",
    "import re\n",
    "\n",
    "def is_valid_time(alarm_time):\n",
    "    \"\"\"Validate the alarm time format HH:MM\"\"\"\n",
    "    pattern = re.compile(r\"^([0-1]?[0-9]|2[0-3]):([0-5]?[0-9])$\")\n",
    "    return bool(pattern.match(alarm_time))\n",
    "\n",
    "def set_alarm(alarm_time):\n",
    "    \"\"\"Set the alarm to trigger at the specified time.\"\"\"\n",
    "    while True:\n",
    "        # Get the current time in HH:MM format\n",
    "        current_time = datetime.datetime.now().strftime(\"%H:%M\")\n",
    "        \n",
    "        # Check if current time matches the alarm time\n",
    "        if current_time == alarm_time:\n",
    "            print(\"Wake up!\")\n",
    "            break\n",
    "        \n",
    "        # Show time remaining until alarm\n",
    "        current_datetime = datetime.datetime.now()\n",
    "        alarm_datetime = current_datetime.replace(hour=int(alarm_time[:2]), minute=int(alarm_time[3:]), second=0, microsecond=0)\n",
    "        \n",
    "        if alarm_datetime < current_datetime:\n",
    "            alarm_datetime += datetime.timedelta(days=1)  # If alarm time has passed today, set it for tomorrow\n",
    "\n",
    "        time_remaining = alarm_datetime - current_datetime\n",
    "        print(f\"Time remaining: {str(time_remaining).split('.')[0]}\", end=\"\\r\")\n",
    "        \n",
    "        # Wait for 30 seconds before checking again (to reduce CPU usage)\n",
    "        time.sleep(30)\n",
    "\n",
    "def main():\n",
    "    while True:\n",
    "        # Get user input for alarm time in HH:MM format\n",
    "        alarm_time = input(\"Enter the alarm time (HH:MM) or 'exit' to quit: \")\n",
    "        \n",
    "        if alarm_time.lower() == 'exit':\n",
    "            print(\"Exiting the program.\")\n",
    "            break\n",
    "        \n",
    "        if not is_valid_time(alarm_time):\n",
    "            print(\"Invalid time format. Please enter in HH:MM format (24-hour).\")\n",
    "            continue\n",
    "        \n",
    "        # Set the alarm\n",
    "        print(f\"Alarm set for {alarm_time}\")\n",
    "        set_alarm(alarm_time)\n",
    "\n",
    "if __name__ == \"__main__\":\n",
    "    main()\n"
   ]
  },
  {
   "cell_type": "code",
   "execution_count": null,
   "id": "8ee74c68-c65b-4149-b986-187ecbc60fe3",
   "metadata": {},
   "outputs": [],
   "source": []
  }
 ],
 "metadata": {
  "kernelspec": {
   "display_name": "Python 3 (ipykernel)",
   "language": "python",
   "name": "python3"
  },
  "language_info": {
   "codemirror_mode": {
    "name": "ipython",
    "version": 3
   },
   "file_extension": ".py",
   "mimetype": "text/x-python",
   "name": "python",
   "nbconvert_exporter": "python",
   "pygments_lexer": "ipython3",
   "version": "3.12.7"
  }
 },
 "nbformat": 4,
 "nbformat_minor": 5
}
